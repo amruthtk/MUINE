{
 "cells": [
  {
   "cell_type": "code",
   "execution_count": 1,
   "id": "5690d2a7",
   "metadata": {},
   "outputs": [
    {
     "name": "stdout",
     "output_type": "stream",
     "text": [
      "Enter the length of the sides5\n",
      "area of square is: 25\n"
     ]
    }
   ],
   "source": [
    "a=int(input(\"Enter the length of the sides\"))\n",
    "area=a*a\n",
    "print(\"area of square is:\",area)\n"
   ]
  },
  {
   "cell_type": "code",
   "execution_count": 2,
   "id": "f02c3fda",
   "metadata": {},
   "outputs": [
    {
     "name": "stdout",
     "output_type": "stream",
     "text": [
      "Enter the name of the user :ajay\n",
      "Hello,ajay!\n"
     ]
    }
   ],
   "source": [
    "name=input(\"Enter the name of the user :\")\n",
    "print (\"Hello,\"+name+\"!\")"
   ]
  },
  {
   "cell_type": "code",
   "execution_count": 3,
   "id": "1b0c5a81",
   "metadata": {},
   "outputs": [
    {
     "name": "stdout",
     "output_type": "stream",
     "text": [
      "Enter a number :10\n",
      "The previous number is : 9\n",
      "The next number is : 11\n"
     ]
    }
   ],
   "source": [
    "num=int(input(\"Enter a number :\"))\n",
    "pn=num-1\n",
    "nn=num+1\n",
    "print (\"The previous number is :\",pn)\n",
    "print(\"The next number is :\",nn)"
   ]
  },
  {
   "cell_type": "code",
   "execution_count": 4,
   "id": "5d6d52e9",
   "metadata": {},
   "outputs": [
    {
     "name": "stdout",
     "output_type": "stream",
     "text": [
      "Enter the base of the right angled traingle :10\n",
      "Enter the height of the right angled triangle :5\n",
      "the area of a right angled traingle is : 25.0\n"
     ]
    }
   ],
   "source": [
    "b=int(input('Enter the base of the right angled traingle :'))\n",
    "h=int(input(\"Enter the height of the right angled triangle :\"))\n",
    "area = (b*h)/2\n",
    "print (\"the area of a right angled traingle is :\" , area)"
   ]
  },
  {
   "cell_type": "code",
   "execution_count": 5,
   "id": "f595e836",
   "metadata": {},
   "outputs": [
    {
     "name": "stdout",
     "output_type": "stream",
     "text": [
      "Enter the principal amount :100\n",
      "Enter the rate of interest per annum10\n",
      "Enter the time in years5\n",
      "The simple intrest is : 50.0\n"
     ]
    }
   ],
   "source": [
    "p=int(input(\"Enter the principal amount :\"))\n",
    "r=int(input(\"Enter the rate of interest per annum\"))\n",
    "t=int(input(\"Enter the time in years\"))\n",
    "s=(p*r*t)/100\n",
    "print('The simple intrest is :',s)"
   ]
  },
  {
   "cell_type": "code",
   "execution_count": null,
   "id": "db222134",
   "metadata": {},
   "outputs": [],
   "source": []
  }
 ],
 "metadata": {
  "kernelspec": {
   "display_name": "Python 3 (ipykernel)",
   "language": "python",
   "name": "python3"
  },
  "language_info": {
   "codemirror_mode": {
    "name": "ipython",
    "version": 3
   },
   "file_extension": ".py",
   "mimetype": "text/x-python",
   "name": "python",
   "nbconvert_exporter": "python",
   "pygments_lexer": "ipython3",
   "version": "3.11.5"
  }
 },
 "nbformat": 4,
 "nbformat_minor": 5
}
