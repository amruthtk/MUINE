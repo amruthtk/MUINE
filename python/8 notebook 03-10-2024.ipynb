{
 "cells": [
  {
   "cell_type": "code",
   "execution_count": 14,
   "id": "3decb024",
   "metadata": {},
   "outputs": [
    {
     "name": "stdout",
     "output_type": "stream",
     "text": [
      "Enter a number :0\n",
      "number is 0\n"
     ]
    }
   ],
   "source": [
    "n=int(input(\"Enter a number :\"))\n",
    "if n<0: \n",
    "\n",
    "    print('the number is negative')\n",
    "    \n",
    "elif n==0:\n",
    "    print('number is 0')\n",
    "    \n",
    "else:\n",
    "\n",
    "    print('the number is positive')\n",
    "\n",
    "\n"
   ]
  },
  {
   "cell_type": "code",
   "execution_count": 18,
   "id": "fd98d117",
   "metadata": {
    "scrolled": true
   },
   "outputs": [
    {
     "name": "stdout",
     "output_type": "stream",
     "text": [
      "Enter a number :5\n",
      "number is odd\n"
     ]
    }
   ],
   "source": [
    "n=int(input(\"Enter a number :\"))\n",
    "\n",
    "if n%2==0:\n",
    "    print(\"number is even\")\n",
    "    \n",
    "else:\n",
    "    print(\"number is odd\")\n",
    "        "
   ]
  },
  {
   "cell_type": "code",
   "execution_count": 35,
   "id": "5681e830",
   "metadata": {},
   "outputs": [
    {
     "name": "stdout",
     "output_type": "stream",
     "text": [
      "Enter the first number :10\n",
      "Enter the second number :20\n",
      "before swap:\n",
      "first: 10 second: 20\n",
      "after swap:\n",
      "first: 20 second: 10\n"
     ]
    }
   ],
   "source": [
    "a=int(input(\"Enter the first number :\"))\n",
    "b=int(input(\"Enter the second number :\"))\n",
    "print('before swap:')\n",
    "print('first:',a , 'second:',b )\n",
    "print('after swap:')\n",
    "print('first:',b , 'second:',a)"
   ]
  },
  {
   "cell_type": "code",
   "execution_count": 37,
   "id": "b9cec3e4",
   "metadata": {},
   "outputs": [
    {
     "name": "stdout",
     "output_type": "stream",
     "text": [
      "Enter a character :a\n",
      "Character  'a' is a vowel\n"
     ]
    }
   ],
   "source": [
    "c=(input(\"Enter a character :\"))\n",
    "if(c=='a'or c=='e'or c=='i'or c=='o'or c=='u'):\n",
    "    print(f\"Character  '{c}' is a vowel\")\n",
    "else: \n",
    "    print(f\"Character '{c}' is not a vowel\")"
   ]
  },
  {
   "cell_type": "code",
   "execution_count": 36,
   "id": "e2d1631e",
   "metadata": {},
   "outputs": [
    {
     "name": "stdout",
     "output_type": "stream",
     "text": [
      "Enter a number20\n",
      "Square of 20 is 400\n"
     ]
    }
   ],
   "source": [
    "n=int(input(\"Enter a number\"))\n",
    "s=n*n\n",
    "print(f\"Square of {n} is\",s)"
   ]
  },
  {
   "cell_type": "code",
   "execution_count": 38,
   "id": "828443a1",
   "metadata": {},
   "outputs": [
    {
     "name": "stdout",
     "output_type": "stream",
     "text": [
      "Enter a number: 5\n",
      "Number 5 is divisible by 5\n"
     ]
    }
   ],
   "source": [
    "num=int(input(\"Enter a number: \"))\n",
    "if(num%5)==0:\n",
    "    print(f\"Number {num} is divisible by 5\")\n",
    "else:\n",
    "    print(f\"Number {num} is not divisible by 5\")"
   ]
  },
  {
   "cell_type": "code",
   "execution_count": 39,
   "id": "00573402",
   "metadata": {},
   "outputs": [
    {
     "name": "stdout",
     "output_type": "stream",
     "text": [
      "enter a string :bro\n",
      "Length of the string bro is 3\n"
     ]
    }
   ],
   "source": [
    "a=input(\"enter a string :\")\n",
    "print(f\"Length of the string {a} is\",len(a))"
   ]
  },
  {
   "cell_type": "code",
   "execution_count": 56,
   "id": "cd6f4d47",
   "metadata": {},
   "outputs": [
    {
     "name": "stdout",
     "output_type": "stream",
     "text": [
      "Enter a year: 2024\n",
      "2024 is a leap year.\n"
     ]
    }
   ],
   "source": [
    "year = int(input(\"Enter a year: \"))\n",
    "if year%4==0:\n",
    "    print(f\"{year} is a leap year.\")\n",
    "else:\n",
    "    print(f\"{year} is not a leap year.\")"
   ]
  },
  {
   "cell_type": "code",
   "execution_count": null,
   "id": "10631c14",
   "metadata": {},
   "outputs": [],
   "source": []
  },
  {
   "cell_type": "code",
   "execution_count": null,
   "id": "fb121901",
   "metadata": {},
   "outputs": [],
   "source": []
  },
  {
   "cell_type": "code",
   "execution_count": null,
   "id": "243959d4",
   "metadata": {},
   "outputs": [],
   "source": []
  }
 ],
 "metadata": {
  "kernelspec": {
   "display_name": "Python 3 (ipykernel)",
   "language": "python",
   "name": "python3"
  },
  "language_info": {
   "codemirror_mode": {
    "name": "ipython",
    "version": 3
   },
   "file_extension": ".py",
   "mimetype": "text/x-python",
   "name": "python",
   "nbconvert_exporter": "python",
   "pygments_lexer": "ipython3",
   "version": "3.11.5"
  }
 },
 "nbformat": 4,
 "nbformat_minor": 5
}
