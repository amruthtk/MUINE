{
 "cells": [
  {
   "cell_type": "code",
   "execution_count": 8,
   "id": "ab903899",
   "metadata": {
    "scrolled": true
   },
   "outputs": [
    {
     "name": "stdout",
     "output_type": "stream",
     "text": [
      "enter text:hello hi amruth hi\n",
      "occurance of each text : [('hi', 2), ('hello', 1), ('amruth', 1)]\n"
     ]
    }
   ],
   "source": [
    "#1. write a python program to  count the occurrences of each word in a line of text.\n",
    "txt=input(\"enter text:\").split()\n",
    "print(\"occurance of each text :\",[(word,txt.count(word))for word in set(txt)])"
   ]
  },
  {
   "cell_type": "code",
   "execution_count": 11,
   "id": "8d754889",
   "metadata": {},
   "outputs": [
    {
     "name": "stdout",
     "output_type": "stream",
     "text": [
      "Enter a list of integers separated by spaces: 100 15 6 65 105\n",
      "list (integers above 100 is written as 'over') : [100, 15, 6, 65, 'over']\n"
     ]
    }
   ],
   "source": [
    "#2list of integers For all values greater than 100, store ‘over’ instead.\n",
    "iv=input(\"Enter a list of integers separated by spaces: \")\n",
    "iv = [int(num) for num in iv.split()]\n",
    "result = ['over' if num > 100 else num for num in iv]\n",
    "print(\"list (integers above 100 is written as 'over') :\", result)"
   ]
  },
  {
   "cell_type": "code",
   "execution_count": 4,
   "id": "6a73a335",
   "metadata": {},
   "outputs": [
    {
     "name": "stdout",
     "output_type": "stream",
     "text": [
      "enter names spliitting with comma: ajay,amruth,abhay\n",
      "Occurnce of 'a': 5\n"
     ]
    }
   ],
   "source": [
    "#3Store a list of first names. Count the occurrences of ‘a’ within the list.\n",
    "n=input(\"enter names spliitting with comma: \").split(,)\n",
    "print(\"Occurnce of 'a':\",sum([name.count('a') for name in n]))"
   ]
  },
  {
   "cell_type": "code",
   "execution_count": 14,
   "id": "ec698aa5",
   "metadata": {},
   "outputs": [
    {
     "name": "stdout",
     "output_type": "stream",
     "text": [
      "Enter first list : 111 15 615\n",
      "Enter second list : 1 111 615\n",
      "Same length : same length\n",
      "not same sum\n",
      "Common elements: {111, 615}\n"
     ]
    }
   ],
   "source": [
    "#4 Enter 2 lists of integers.Check\n",
    "#(a) Whether list are of same length\n",
    "#(b) whether list sums to same value \n",
    "#(c) whether any value occur in both.\n",
    "l1= list(map(int,input(\"Enter first list : \").split()))\n",
    "l2= list(map(int,input(\"Enter second list : \").split()))\n",
    "print(\"Same length : same length\"if len(l1) == len(l2) else ('not same length'))\n",
    "print(\"Same sum \"if sum(l1) == sum(l2) else ('not same sum'))\n",
    "common_elements = set(l1) & set(l2) \n",
    "print(\"Common elements:\", common_elements)"
   ]
  },
  {
   "cell_type": "code",
   "execution_count": 15,
   "id": "78d4f5c9",
   "metadata": {},
   "outputs": [
    {
     "name": "stdout",
     "output_type": "stream",
     "text": [
      "Enter list of numbers :100 -5 60\n",
      "positive number : [100, 60]\n"
     ]
    }
   ],
   "source": [
    "#5(a)Generate positive list of numbers from a given list of integers\n",
    "s=map(int,input(\"Enter list of numbers :\").split())\n",
    "print(\"positive number :\",[i for i in s if i>0 ])"
   ]
  },
  {
   "cell_type": "code",
   "execution_count": 26,
   "id": "55c7a6eb",
   "metadata": {},
   "outputs": [
    {
     "name": "stdout",
     "output_type": "stream",
     "text": [
      "Enter list of integers :2 3 4\n",
      "square of numbers  [4, 9, 16]\n"
     ]
    }
   ],
   "source": [
    "#5(b)Square of N numbers\n",
    "num=map(int,input(\"Enter list of integers :\").split())\n",
    "print(\"square of numbers \",[i**2 for i in num])"
   ]
  },
  {
   "cell_type": "code",
   "execution_count": 7,
   "id": "8b5b8b00",
   "metadata": {},
   "outputs": [
    {
     "name": "stdout",
     "output_type": "stream",
     "text": [
      "enter a word: orange\n",
      "vowels in the word: ['o', 'a', 'e']\n"
     ]
    }
   ],
   "source": [
    "#5(c)Form a list of vowels selected from a given word\n",
    "word=input(\"enter a word: \")\n",
    "print(\"vowels in the word:\",[i for i in word.lower() if i in \"aeiou\"])"
   ]
  },
  {
   "cell_type": "code",
   "execution_count": 28,
   "id": "a9760bc1",
   "metadata": {},
   "outputs": [
    {
     "name": "stdout",
     "output_type": "stream",
     "text": [
      "Enter a word: ordinal\n",
      "Ordinal values of each character: [111, 114, 100, 105, 110, 97, 108]\n"
     ]
    }
   ],
   "source": [
    "#5(d)List ordinal value of each element of a word (Hint: use ord() to get ordinal values)\n",
    "word = input(\"Enter a word: \")\n",
    "ordinal_values = [ord(val) for val in word]\n",
    "print(\"Ordinal values of each character:\", ordinal_values)"
   ]
  },
  {
   "cell_type": "code",
   "execution_count": null,
   "id": "07d1a6c5",
   "metadata": {},
   "outputs": [],
   "source": []
  }
 ],
 "metadata": {
  "kernelspec": {
   "display_name": "Python 3 (ipykernel)",
   "language": "python",
   "name": "python3"
  },
  "language_info": {
   "codemirror_mode": {
    "name": "ipython",
    "version": 3
   },
   "file_extension": ".py",
   "mimetype": "text/x-python",
   "name": "python",
   "nbconvert_exporter": "python",
   "pygments_lexer": "ipython3",
   "version": "3.11.5"
  }
 },
 "nbformat": 4,
 "nbformat_minor": 5
}
