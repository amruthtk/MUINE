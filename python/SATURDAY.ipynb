{
 "cells": [
  {
   "cell_type": "code",
   "execution_count": 3,
   "id": "d135330a",
   "metadata": {},
   "outputs": [
    {
     "name": "stdout",
     "output_type": "stream",
     "text": [
      "Enter an integer :10\n",
      "10+1010+101010=102030\n"
     ]
    }
   ],
   "source": [
    "n=input('Enter an integer :')\n",
    "result=int(n)+int(n*2)+int(n*3)\n",
    "print(f\"{n}+{n*2}+{n*3}={result}\")"
   ]
  },
  {
   "cell_type": "code",
   "execution_count": 7,
   "id": "52702910",
   "metadata": {},
   "outputs": [
    {
     "name": "stdout",
     "output_type": "stream",
     "text": [
      "Enter the radius of the circle :6\n",
      "area of the circle is : 113.09733552923255\n"
     ]
    }
   ],
   "source": [
    "import math as M\n",
    "radius=float(input(\"Enter the radius of the circle :\"))\n",
    "area=M.pi*radius*radius\n",
    "pi=3.14\n",
    "print(\"area of the circle is :\",area)"
   ]
  },
  {
   "cell_type": "code",
   "execution_count": 8,
   "id": "0a784b5b",
   "metadata": {},
   "outputs": [
    {
     "name": "stdout",
     "output_type": "stream",
     "text": [
      "Enter the first number :10\n",
      "Enter the second number :20\n",
      "Enter the third numer :30\n",
      "The biggest number is : 30\n"
     ]
    }
   ],
   "source": [
    "import math \n",
    "a=int(input(\"Enter the first number :\"))\n",
    "b=int(input(\"Enter the second number :\"))\n",
    "c=int(input(\"Enter the third numer :\"))\n",
    "biggest=max(a,b,c)\n",
    "print(\"The biggest number is :\",biggest)"
   ]
  },
  {
   "cell_type": "markdown",
   "id": "4ad37697",
   "metadata": {},
   "source": []
  },
  {
   "cell_type": "code",
   "execution_count": 3,
   "id": "2a9c15ff",
   "metadata": {
    "scrolled": true
   },
   "outputs": [
    {
     "name": "stdout",
     "output_type": "stream",
     "text": [
      "Enter the KMs you traveled:10\n",
      "u have traveled 6.213769999999999 miles\n"
     ]
    }
   ],
   "source": [
    "km=float(input('Enter the KMs you traveled:'))\n",
    "mile=km*0.621377\n",
    "print(f\"u have traveled {mile} miles\")"
   ]
  },
  {
   "cell_type": "code",
   "execution_count": 4,
   "id": "841bd1c7",
   "metadata": {},
   "outputs": [
    {
     "name": "stdout",
     "output_type": "stream",
     "text": [
      "Enter the Price of product A:10\n",
      "Enter the Price of product B:20\n",
      "Enter the Price of product C:30\n",
      "Total price of the Product is:$60.0\n",
      "Final price(after 15% Discount) is:$51.0\n",
      "Average price of the Product is:$20.0\n",
      "Product A is Expensive than Final price: False\n",
      "Product B is Expensive than Final price: False\n",
      "Product C is Expensive than Final price: False\n",
      "Final price is in the range of $50 to $200: True\n"
     ]
    }
   ],
   "source": [
    "A=float(input(\"Enter the Price of product A:\"))\n",
    "B=float(input(\"Enter the Price of product B:\"))\n",
    "C=float(input(\"Enter the Price of product C:\"))\n",
    "Total_price=A+B+C\n",
    "print(f\"Total price of the Product is:${Total_price}\")\n",
    "Discount=Total_price*0.15\n",
    "Final_price=Total_price-Discount\n",
    "print(f\"Final price(after 15% Discount) is:${Final_price}\")\n",
    "Avg=Total_price/3\n",
    "print(f\"Average price of the Product is:${Avg}\")\n",
    "print(\"Product A is Expensive than Final price:\",A>Final_price)\n",
    "print(\"Product B is Expensive than Final price:\",B>Final_price)\n",
    "print(\"Product C is Expensive than Final price:\",C>Final_price)\n",
    "print(\"Final price is in the range of $50 to $200:\",50<=Final_price<=200)\n"
   ]
  },
  {
   "cell_type": "code",
   "execution_count": 5,
   "id": "65dbde88",
   "metadata": {},
   "outputs": [
    {
     "name": "stdout",
     "output_type": "stream",
     "text": [
      "Enter the temperature in celcius : 60\n",
      "farenheit =  140.0\n"
     ]
    }
   ],
   "source": [
    "celcius=float(input(\"Enter the temperature in celcius : \"))\n",
    "farenheit=celcius*9/5+32\n",
    "print('farenheit = ',farenheit)"
   ]
  },
  {
   "cell_type": "code",
   "execution_count": null,
   "id": "1c72b757",
   "metadata": {},
   "outputs": [],
   "source": []
  }
 ],
 "metadata": {
  "kernelspec": {
   "display_name": "Python 3 (ipykernel)",
   "language": "python",
   "name": "python3"
  },
  "language_info": {
   "codemirror_mode": {
    "name": "ipython",
    "version": 3
   },
   "file_extension": ".py",
   "mimetype": "text/x-python",
   "name": "python",
   "nbconvert_exporter": "python",
   "pygments_lexer": "ipython3",
   "version": "3.11.5"
  }
 },
 "nbformat": 4,
 "nbformat_minor": 5
}
