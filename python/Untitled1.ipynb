{
 "cells": [
  {
   "cell_type": "code",
   "execution_count": 3,
   "id": "8962b237",
   "metadata": {},
   "outputs": [
    {
     "name": "stdout",
     "output_type": "stream",
     "text": [
      "Enter an integer :10\n",
      "10+1010+101010=102030\n"
     ]
    }
   ],
   "source": [
    "n=input('Enter an integer :')\n",
    "result=int(n)+int(n*2)+int(n*3)\n",
    "print(f\"{n}+{n*2}+{n*3}={result}\")"
   ]
  },
  {
   "cell_type": "code",
   "execution_count": 7,
   "id": "d799a689",
   "metadata": {},
   "outputs": [
    {
     "name": "stdout",
     "output_type": "stream",
     "text": [
      "Enter the radius of the circle :6\n",
      "area of the circle is : 113.09733552923255\n"
     ]
    }
   ],
   "source": [
    "import math as M\n",
    "radius=float(input(\"Enter the radius of the circle :\"))\n",
    "area=M.pi*radius*radius\n",
    "pi=3.14\n",
    "print(\"area of the circle is :\",area)"
   ]
  },
  {
   "cell_type": "code",
   "execution_count": 8,
   "id": "2e8f48a5",
   "metadata": {},
   "outputs": [
    {
     "name": "stdout",
     "output_type": "stream",
     "text": [
      "Enter the first number :10\n",
      "Enter the second number :20\n",
      "Enter the third numer :30\n",
      "The biggest number is : 30\n"
     ]
    }
   ],
   "source": [
    "import math \n",
    "a=int(input(\"Enter the first number :\"))\n",
    "b=int(input(\"Enter the second number :\"))\n",
    "c=int(input(\"Enter the third numer :\"))\n",
    "biggest=max(a,b,c)\n",
    "print(\"The biggest number is :\",biggest)"
   ]
  },
  {
   "cell_type": "code",
   "execution_count": null,
   "id": "4f508fab",
   "metadata": {},
   "outputs": [],
   "source": []
  }
 ],
 "metadata": {
  "kernelspec": {
   "display_name": "Python 3 (ipykernel)",
   "language": "python",
   "name": "python3"
  },
  "language_info": {
   "codemirror_mode": {
    "name": "ipython",
    "version": 3
   },
   "file_extension": ".py",
   "mimetype": "text/x-python",
   "name": "python",
   "nbconvert_exporter": "python",
   "pygments_lexer": "ipython3",
   "version": "3.11.5"
  }
 },
 "nbformat": 4,
 "nbformat_minor": 5
}
