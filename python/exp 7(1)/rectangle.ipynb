{
 "cells": [
  {
   "cell_type": "code",
   "execution_count": 9,
   "id": "44d617d4",
   "metadata": {},
   "outputs": [
    {
     "name": "stdout",
     "output_type": "stream",
     "text": [
      "Area of rectangle: 100\n",
      "Perimetere of rectangle: 30\n"
     ]
    }
   ],
   "source": [
    "import ksb\n",
    "a=10\n",
    "b=5\n",
    "c=rmod.rarea(a,b)\n",
    "d=rmod.rperi(a,b)\n",
    "print(\"Area of rectangle:\",c)\n",
    "print(\"Perimetere of rectangle:\",d)"
   ]
  },
  {
   "cell_type": "code",
   "execution_count": null,
   "id": "26b33172",
   "metadata": {},
   "outputs": [],
   "source": []
  }
 ],
 "metadata": {
  "kernelspec": {
   "display_name": "Python 3 (ipykernel)",
   "language": "python",
   "name": "python3"
  },
  "language_info": {
   "codemirror_mode": {
    "name": "ipython",
    "version": 3
   },
   "file_extension": ".py",
   "mimetype": "text/x-python",
   "name": "python",
   "nbconvert_exporter": "python",
   "pygments_lexer": "ipython3",
   "version": "3.11.5"
  }
 },
 "nbformat": 4,
 "nbformat_minor": 5
}
