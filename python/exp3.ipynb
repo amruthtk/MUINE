{
 "cells": [
  {
   "cell_type": "code",
   "execution_count": 1,
   "id": "e2b0a0ab",
   "metadata": {},
   "outputs": [
    {
     "name": "stdout",
     "output_type": "stream",
     "text": [
      "Enter a word : raj\n",
      "jar\n"
     ]
    }
   ],
   "source": [
    "a= input(\"Enter a word : \")\n",
    "b=a[-1] + a[1:-1]  + a[0]\n",
    "print(b)"
   ]
  },
  {
   "cell_type": "code",
   "execution_count": 2,
   "id": "0d15d2e3",
   "metadata": {},
   "outputs": [
    {
     "name": "stdout",
     "output_type": "stream",
     "text": [
      "Enter 1st  string : amruth\n",
      "Enter 2nd string: ajay\n",
      "ajruth amay\n"
     ]
    }
   ],
   "source": [
    "s1= input(\"Enter 1st  string : \")\n",
    "s2= input(\"Enter 2nd string: \")\n",
    "print(s2[0:2]+s1[2:]+\" \"+s1[0:2]+s2[2:])"
   ]
  },
  {
   "cell_type": "code",
   "execution_count": 3,
   "id": "2cff176d",
   "metadata": {},
   "outputs": [
    {
     "name": "stdout",
     "output_type": "stream",
     "text": [
      "enter a string :amar\n",
      "am$r\n"
     ]
    }
   ],
   "source": [
    "s=input(\"enter a string :\")\n",
    "x=s[0]+s[1:].replace(s[0],\"$\")\n",
    "print(x)"
   ]
  },
  {
   "cell_type": "code",
   "execution_count": 4,
   "id": "7d5325ed",
   "metadata": {},
   "outputs": [
    {
     "name": "stdout",
     "output_type": "stream",
     "text": [
      "Enter names of colors by putting comma :red,blue,black,yellow\n",
      "first color :  red\n",
      "Last color :  yellow\n"
     ]
    }
   ],
   "source": [
    "a=input(\"Enter names of colors by putting comma :\")\n",
    "b=a.split(',')\n",
    "print(\"first color : \",b[0])\n",
    "print(\"Last color : \",b[-1])"
   ]
  },
  {
   "cell_type": "code",
   "execution_count": 8,
   "id": "aee8a9f1",
   "metadata": {},
   "outputs": [
    {
     "name": "stdout",
     "output_type": "stream",
     "text": [
      "Enter the file name :amaar.pdf\n",
      "Extention of the file name is: . pdf\n"
     ]
    }
   ],
   "source": [
    "f=input(\"Enter the file name :\")\n",
    "fn=f.split(\".\")\n",
    "print(\"Extention of the file name is: .\",fn[-1])"
   ]
  },
  {
   "cell_type": "code",
   "execution_count": 9,
   "id": "35adc429",
   "metadata": {},
   "outputs": [
    {
     "name": "stdout",
     "output_type": "stream",
     "text": [
      "Enter values to the tuple: ajay amruth aneesa athulya anjana\n",
      "Tuple elements is:  ('ajay', 'amruth', 'aneesa', 'athulya', 'anjana')\n",
      "Third element aneesa\n",
      "third from last aneesa\n"
     ]
    }
   ],
   "source": [
    "b=input(\"Enter values to the tuple: \")\n",
    "a=tuple(b.split(\" \"))\n",
    "print(\"Tuple elements is: \",a)\n",
    "print(\"Third element\",a[2])\n",
    "print(\"third from last\",a[-3])"
   ]
  },
  {
   "cell_type": "code",
   "execution_count": 10,
   "id": "ae203fd5",
   "metadata": {},
   "outputs": [
    {
     "name": "stdout",
     "output_type": "stream",
     "text": [
      "Enter 1st  set color : red,blue,green\n",
      "Enter 2nd set color: yellow,blue,green\n",
      "Color present in set one but not in set 2 = {'red'}\n"
     ]
    }
   ],
   "source": [
    "a=set(input(\"Enter 1st  set color : \").split(','))\n",
    "b=set(input(\"Enter 2nd set color: \").split(','))\n",
    "print(\"Color present in set one but not in set 2 =\",a-b)"
   ]
  },
  {
   "cell_type": "code",
   "execution_count": 11,
   "id": "7fa5a634",
   "metadata": {},
   "outputs": [
    {
     "name": "stdout",
     "output_type": "stream",
     "text": [
      "Enter  5 roll number separated by commas :1,2,5,3,6\n",
      "Enter  5 student names separated by commas :ajay,jahana,fina,anjana,sanin\n",
      "Student sorted in ascending order :  {'1': 'ajay', '2': 'jahana', '3': 'anjana', '5': 'fina', '6': 'sanin'}\n",
      "Student sorted in descending order :  {'6': 'sanin', '5': 'fina', '3': 'anjana', '2': 'jahana', '1': 'ajay'}\n"
     ]
    }
   ],
   "source": [
    "r=input(\"Enter  5 roll number separated by commas :\").split(',')\n",
    "n=input(\"Enter  5 student names separated by commas :\").split(',')\n",
    "d={r[0]:n[0],r[1]:n[1],r[2]:n[2],r[3]:n[3],r[4]:n[4]}\n",
    "print(\"Student sorted in ascending order : \",dict(sorted(d.items(),reverse=False)))\n",
    "print(\"Student sorted in descending order : \",dict(sorted(d.items(),reverse=True)))"
   ]
  },
  {
   "cell_type": "code",
   "execution_count": 12,
   "id": "cca2b4b1",
   "metadata": {},
   "outputs": [
    {
     "name": "stdout",
     "output_type": "stream",
     "text": [
      "enter three student names separated by spaces: akhil amrith nabeel\n",
      "enter other 2 student names separated by spaces: aswin adhil\n",
      "Merge disc=  {1: 'akhil', 2: 'amrith', 3: 'nabeel', 4: 'aswin', 5: 'adhil'}\n"
     ]
    }
   ],
   "source": [
    "n1=input(\"enter three student names separated by spaces: \").split()\n",
    "dict1={1:n1[0],2:n1[1],3:n1[2]}\n",
    "n2=input(\"enter other 2 student names separated by spaces: \").split()\n",
    "dict2={4:n2[0],5:n2[1]}\n",
    "dict1.update(dict2)\n",
    "print(\"Merge disc= \",dict1)"
   ]
  },
  {
   "cell_type": "code",
   "execution_count": 13,
   "id": "f84f1513",
   "metadata": {},
   "outputs": [
    {
     "name": "stdout",
     "output_type": "stream",
     "text": [
      "Even number are:  [2, 4, 6, 8, 10, 12, 14, 16, 18, 20, 22, 24]\n",
      "sum of the numbers is : 156\n"
     ]
    }
   ],
   "source": [
    "even_n=list(range(2,26,2))\n",
    "print(\"Even number are: \",even_n)\n",
    "sum_n=sum(range(2,26,2))\n",
    "print(\"sum of the numbers is :\",sum_n)"
   ]
  }
 ],
 "metadata": {
  "kernelspec": {
   "display_name": "Python 3 (ipykernel)",
   "language": "python",
   "name": "python3"
  },
  "language_info": {
   "codemirror_mode": {
    "name": "ipython",
    "version": 3
   },
   "file_extension": ".py",
   "mimetype": "text/x-python",
   "name": "python",
   "nbconvert_exporter": "python",
   "pygments_lexer": "ipython3",
   "version": "3.11.5"
  }
 },
 "nbformat": 4,
 "nbformat_minor": 5
}
