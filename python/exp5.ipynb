{
 "cells": [
  {
   "cell_type": "code",
   "execution_count": 4,
   "id": "3e3c3a51",
   "metadata": {},
   "outputs": [
    {
     "name": "stdout",
     "output_type": "stream",
     "text": [
      "Enter the first number5\n",
      "Enter the second number10\n",
      "THe GCD of 5 and 10 is : 5\n"
     ]
    }
   ],
   "source": [
    "#1\n",
    "import math\n",
    "a=int(input(\"Enter the first number\"))\n",
    "b=int(input(\"Enter the second number\"))\n",
    "gcd=math.gcd(a,b)\n",
    "print(\"THe GCD of\",a,\"and\",b, \"is :\",gcd)      "
   ]
  },
  {
   "cell_type": "code",
   "execution_count": 1,
   "id": "81dcdbca",
   "metadata": {},
   "outputs": [
    {
     "name": "stdout",
     "output_type": "stream",
     "text": [
      "Enter integers separated by spaces: 3 5 9 8 7 12 11\n",
      "List without even numbers: [3, 5, 9, 7, 11]\n"
     ]
    }
   ],
   "source": [
    "#2.list removing even numbers.\n",
    "numbers = list(map(int, input(\"Enter integers separated by spaces: \").split()))\n",
    "odd_numbers = [num for num in numbers if num % 2 != 0]\n",
    "print(\"List without even numbers:\", odd_numbers)\n"
   ]
  },
  {
   "cell_type": "code",
   "execution_count": 2,
   "id": "9e9bb1a6",
   "metadata": {},
   "outputs": [
    {
     "name": "stdout",
     "output_type": "stream",
     "text": [
      "Enter integers separated by spaces: 10 15 20 5\n",
      "The sum of all items: 50\n"
     ]
    }
   ],
   "source": [
    "#3.sum of all items in a list\n",
    "numbers = list(map(int, input(\"Enter integers separated by spaces: \").split()))\n",
    "total_sum = sum(numbers)\n",
    "print(\"The sum of all items:\", total_sum)"
   ]
  },
  {
   "cell_type": "code",
   "execution_count": 7,
   "id": "3622598d",
   "metadata": {},
   "outputs": [
    {
     "name": "stdout",
     "output_type": "stream",
     "text": [
      "Enter the start of the range: 1000\n",
      "Enter the end of the range: 9999\n",
      "Perfect square numbers with all even digits:\n",
      "4624\n",
      "6084\n",
      "6400\n",
      "8464\n"
     ]
    }
   ],
   "source": [
    "# 4.list of four digit numbers in a given range with \n",
    "#all their digits even and the number is a perfect square.\n",
    "import math\n",
    "start= int(input(\"Enter the start of the range: \"))\n",
    "end= int(input(\"Enter the end of the range: \"))\n",
    "print(\"Perfect square numbers with all even digits:\")\n",
    "for num in range(start,end+1):\n",
    "    if all(int(digit)%2==0 for digit in str(num)):\n",
    "        root=int(math.sqrt(num))\n",
    "        if root*root==num:\n",
    "            print(num)\n"
   ]
  },
  {
   "cell_type": "code",
   "execution_count": 25,
   "id": "72c5693f",
   "metadata": {},
   "outputs": [
    {
     "name": "stdout",
     "output_type": "stream",
     "text": [
      "Enter the string: amar\n",
      "occurance of each charecter : {'a': 2, 'm': 1, 'r': 1}\n"
     ]
    }
   ],
   "source": [
    "#5. Count the number of characters (character frequency) in a string.\n",
    "txt= input(\"Enter the string: \")\n",
    "c={}\n",
    "for char in txt:\n",
    "    if char in c:\n",
    "        c[char] += 1\n",
    "    else:\n",
    "        c[char] = 1\n",
    "print(\"occurance of each charecter :\",c)"
   ]
  },
  {
   "cell_type": "code",
   "execution_count": 23,
   "id": "516df2c1",
   "metadata": {},
   "outputs": [
    {
     "name": "stdout",
     "output_type": "stream",
     "text": [
      "Enter a string:amazaing\n",
      "Modified Text is: amazaingly\n"
     ]
    }
   ],
   "source": [
    "# 6. Add ‘ing’ at the end of a given string. If it already ends with ‘ing’, then add ‘ly’\n",
    "txt = input(\"Enter a string:\")\n",
    "if txt[-3:] == \"ing\":\n",
    "    txt += \"ly\"\n",
    "else:\n",
    "    txt += \"ing\"\n",
    "print(\"Modified Text is:\", txt)"
   ]
  },
  {
   "cell_type": "code",
   "execution_count": null,
   "id": "48d1c838",
   "metadata": {},
   "outputs": [],
   "source": []
  }
 ],
 "metadata": {
  "kernelspec": {
   "display_name": "Python 3 (ipykernel)",
   "language": "python",
   "name": "python3"
  },
  "language_info": {
   "codemirror_mode": {
    "name": "ipython",
    "version": 3
   },
   "file_extension": ".py",
   "mimetype": "text/x-python",
   "name": "python",
   "nbconvert_exporter": "python",
   "pygments_lexer": "ipython3",
   "version": "3.11.5"
  }
 },
 "nbformat": 4,
 "nbformat_minor": 5
}
