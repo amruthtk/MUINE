{
 "cells": [
  {
   "cell_type": "code",
   "execution_count": 13,
   "id": "ef9899f5-1cb4-4e73-ab16-cdeb6a8d7d33",
   "metadata": {},
   "outputs": [
    {
     "name": "stdout",
     "output_type": "stream",
     "text": [
      "hwllo\n"
     ]
    }
   ],
   "source": [
    "f=open(\"pqr.txt\",'r')\n",
    "print (f.read())"
   ]
  },
  {
   "cell_type": "code",
   "execution_count": 7,
   "id": "93717989-80ed-43bd-8ac4-dd4759996768",
   "metadata": {},
   "outputs": [
    {
     "data": {
      "text/plain": [
       "7"
      ]
     },
     "execution_count": 7,
     "metadata": {},
     "output_type": "execute_result"
    }
   ],
   "source": [
    "f=open(\"abc.txt\",'w')\n",
    "f.write('Welcome')"
   ]
  },
  {
   "cell_type": "code",
   "execution_count": 9,
   "id": "1a6e443e-7a33-40db-826e-980e5ec8d714",
   "metadata": {},
   "outputs": [
    {
     "data": {
      "text/plain": [
       "2"
      ]
     },
     "execution_count": 9,
     "metadata": {},
     "output_type": "execute_result"
    }
   ],
   "source": [
    "f=open(\"abc.txt\",'a')\n",
    "f.write('Hi')"
   ]
  },
  {
   "cell_type": "code",
   "execution_count": 11,
   "id": "01f3ee20-3457-486b-9378-6115a7887974",
   "metadata": {},
   "outputs": [
    {
     "data": {
      "text/plain": [
       "5"
      ]
     },
     "execution_count": 11,
     "metadata": {},
     "output_type": "execute_result"
    }
   ],
   "source": [
    "f=open(\"pqr.txt\",'w')\n",
    "f.write(\"hwllo\")"
   ]
  },
  {
   "cell_type": "code",
   "execution_count": null,
   "id": "c16393d9-7695-4dda-89a0-623773c73b5d",
   "metadata": {},
   "outputs": [],
   "source": []
  }
 ],
 "metadata": {
  "kernelspec": {
   "display_name": "Python 3 (ipykernel)",
   "language": "python",
   "name": "python3"
  },
  "language_info": {
   "codemirror_mode": {
    "name": "ipython",
    "version": 3
   },
   "file_extension": ".py",
   "mimetype": "text/x-python",
   "name": "python",
   "nbconvert_exporter": "python",
   "pygments_lexer": "ipython3",
   "version": "3.11.5"
  }
 },
 "nbformat": 4,
 "nbformat_minor": 5
}
